{
  "nbformat": 4,
  "nbformat_minor": 0,
  "metadata": {
    "colab": {
      "provenance": [],
      "authorship_tag": "ABX9TyPCzP7My1ZdNUIkTetYDGrc",
      "include_colab_link": true
    },
    "kernelspec": {
      "name": "python3",
      "display_name": "Python 3"
    },
    "language_info": {
      "name": "python"
    }
  },
  "cells": [
    {
      "cell_type": "markdown",
      "metadata": {
        "id": "view-in-github",
        "colab_type": "text"
      },
      "source": [
        "<a href=\"https://colab.research.google.com/github/kimalpaca/Advanced-Graphics-Programming/blob/master/DQN.ipynb\" target=\"_parent\"><img src=\"https://colab.research.google.com/assets/colab-badge.svg\" alt=\"Open In Colab\"/></a>"
      ]
    },
    {
      "cell_type": "code",
      "source": [
        "!apt-get update\n",
        "!apt-get install xvfb\n",
        "!apt-get install python3-tk\n",
        "!pip install numpy==1.23.5\n",
        "!pip install tk\n",
        "!pip install gym[box2d]\n",
        "!pip install gym-notebook-wrapper\n",
        "!export MPLBACKEND=TKAg"
      ],
      "metadata": {
        "colab": {
          "base_uri": "https://localhost:8080/",
          "height": 1000
        },
        "id": "yI4WhPiOzia_",
        "outputId": "492f1b30-d371-45c5-d878-06e102a28edf"
      },
      "execution_count": null,
      "outputs": [
        {
          "output_type": "stream",
          "name": "stdout",
          "text": [
            "\r0% [Working]\r            \rGet:1 https://cloud.r-project.org/bin/linux/ubuntu jammy-cran40/ InRelease [3,632 B]\n",
            "\r0% [Connecting to archive.ubuntu.com (91.189.91.81)] [Connecting to security.ub\r0% [Connecting to archive.ubuntu.com (91.189.91.81)] [Connecting to security.ub\r                                                                               \rGet:2 https://developer.download.nvidia.com/compute/cuda/repos/ubuntu2204/x86_64  InRelease [1,581 B]\n",
            "Get:3 https://cloud.r-project.org/bin/linux/ubuntu jammy-cran40/ Packages [75.2 kB]\n",
            "Get:4 https://developer.download.nvidia.com/compute/cuda/repos/ubuntu2204/x86_64  Packages [1,604 kB]\n",
            "Get:5 http://security.ubuntu.com/ubuntu jammy-security InRelease [129 kB]\n",
            "Hit:6 http://archive.ubuntu.com/ubuntu jammy InRelease\n",
            "Get:7 http://archive.ubuntu.com/ubuntu jammy-updates InRelease [128 kB]\n",
            "Get:8 https://r2u.stat.illinois.edu/ubuntu jammy InRelease [6,555 B]\n",
            "Hit:9 https://ppa.launchpadcontent.net/deadsnakes/ppa/ubuntu jammy InRelease\n",
            "Get:10 https://r2u.stat.illinois.edu/ubuntu jammy/main all Packages [8,842 kB]\n",
            "Hit:11 https://ppa.launchpadcontent.net/graphics-drivers/ppa/ubuntu jammy InRelease\n",
            "Get:12 http://security.ubuntu.com/ubuntu jammy-security/universe amd64 Packages [1,243 kB]\n",
            "Hit:13 http://archive.ubuntu.com/ubuntu jammy-backports InRelease\n",
            "Hit:14 https://ppa.launchpadcontent.net/ubuntugis/ppa/ubuntu jammy InRelease\n",
            "Get:15 http://archive.ubuntu.com/ubuntu jammy-updates/universe amd64 Packages [1,542 kB]\n",
            "Get:16 http://security.ubuntu.com/ubuntu jammy-security/main amd64 Packages [2,788 kB]\n",
            "Get:17 http://archive.ubuntu.com/ubuntu jammy-updates/main amd64 Packages [3,140 kB]\n",
            "Get:18 https://r2u.stat.illinois.edu/ubuntu jammy/main amd64 Packages [2,695 kB]\n",
            "Fetched 22.2 MB in 4s (5,916 kB/s)\n",
            "Reading package lists... Done\n",
            "W: Skipping acquire of configured file 'main/source/Sources' as repository 'https://r2u.stat.illinois.edu/ubuntu jammy InRelease' does not seem to provide it (sources.list entry misspelt?)\n",
            "Reading package lists... Done\n",
            "Building dependency tree... Done\n",
            "Reading state information... Done\n",
            "xvfb is already the newest version (2:21.1.4-2ubuntu1.7~22.04.14).\n",
            "0 upgraded, 0 newly installed, 0 to remove and 41 not upgraded.\n",
            "Reading package lists... Done\n",
            "Building dependency tree... Done\n",
            "Reading state information... Done\n",
            "python3-tk is already the newest version (3.10.8-1~22.04).\n",
            "0 upgraded, 0 newly installed, 0 to remove and 41 not upgraded.\n",
            "Collecting numpy==1.23.5\n",
            "  Downloading numpy-1.23.5-cp311-cp311-manylinux_2_17_x86_64.manylinux2014_x86_64.whl.metadata (2.3 kB)\n",
            "Downloading numpy-1.23.5-cp311-cp311-manylinux_2_17_x86_64.manylinux2014_x86_64.whl (17.1 MB)\n",
            "\u001b[2K   \u001b[90m━━━━━━━━━━━━━━━━━━━━━━━━━━━━━━━━━━━━━━━━\u001b[0m \u001b[32m17.1/17.1 MB\u001b[0m \u001b[31m91.4 MB/s\u001b[0m eta \u001b[36m0:00:00\u001b[0m\n",
            "\u001b[?25hInstalling collected packages: numpy\n",
            "  Attempting uninstall: numpy\n",
            "    Found existing installation: numpy 2.0.2\n",
            "    Uninstalling numpy-2.0.2:\n",
            "      Successfully uninstalled numpy-2.0.2\n",
            "\u001b[31mERROR: pip's dependency resolver does not currently take into account all the packages that are installed. This behaviour is the source of the following dependency conflicts.\n",
            "thinc 8.3.6 requires numpy<3.0.0,>=2.0.0, but you have numpy 1.23.5 which is incompatible.\n",
            "chex 0.1.89 requires numpy>=1.24.1, but you have numpy 1.23.5 which is incompatible.\n",
            "xarray 2025.1.2 requires numpy>=1.24, but you have numpy 1.23.5 which is incompatible.\n",
            "bigframes 1.42.0 requires numpy>=1.24.0, but you have numpy 1.23.5 which is incompatible.\n",
            "albumentations 2.0.5 requires numpy>=1.24.4, but you have numpy 1.23.5 which is incompatible.\n",
            "scikit-image 0.25.2 requires numpy>=1.24, but you have numpy 1.23.5 which is incompatible.\n",
            "jax 0.5.2 requires numpy>=1.25, but you have numpy 1.23.5 which is incompatible.\n",
            "albucore 0.0.23 requires numpy>=1.24.4, but you have numpy 1.23.5 which is incompatible.\n",
            "blosc2 3.3.0 requires numpy>=1.26, but you have numpy 1.23.5 which is incompatible.\n",
            "jaxlib 0.5.1 requires numpy>=1.25, but you have numpy 1.23.5 which is incompatible.\n",
            "treescope 0.1.9 requires numpy>=1.25.2, but you have numpy 1.23.5 which is incompatible.\n",
            "imbalanced-learn 0.13.0 requires numpy<3,>=1.24.3, but you have numpy 1.23.5 which is incompatible.\n",
            "pymc 5.21.2 requires numpy>=1.25.0, but you have numpy 1.23.5 which is incompatible.\n",
            "tensorflow 2.18.0 requires numpy<2.1.0,>=1.26.0, but you have numpy 1.23.5 which is incompatible.\u001b[0m\u001b[31m\n",
            "\u001b[0mSuccessfully installed numpy-1.23.5\n"
          ]
        },
        {
          "output_type": "display_data",
          "data": {
            "application/vnd.colab-display-data+json": {
              "pip_warning": {
                "packages": [
                  "numpy"
                ]
              },
              "id": "53c5e7f1c0c94901bae4a44480de182b"
            }
          },
          "metadata": {}
        },
        {
          "output_type": "stream",
          "name": "stdout",
          "text": [
            "Collecting tk\n",
            "  Downloading tk-0.1.0-py3-none-any.whl.metadata (693 bytes)\n",
            "Downloading tk-0.1.0-py3-none-any.whl (3.9 kB)\n",
            "Installing collected packages: tk\n",
            "Successfully installed tk-0.1.0\n",
            "Traceback (most recent call last):\n",
            "  File \"/usr/local/bin/pip3\", line 4, in <module>\n",
            "  File \"/usr/local/lib/python3.11/dist-packages/pip/_internal/cli/main.py\", line 11, in <module>\n",
            "    from pip._internal.cli.autocompletion import autocomplete\n",
            "  File \"/usr/local/lib/python3.11/dist-packages/pip/_internal/cli/autocompletion.py\", line 10, in <module>\n",
            "    from pip._internal.cli.main_parser import create_main_parser\n",
            "  File \"/usr/local/lib/python3.11/dist-packages/pip/_internal/cli/main_parser.py\", line 9, in <module>\n",
            "    from pip._internal.build_env import get_runnable_pip\n",
            "  File \"/usr/local/lib/python3.11/dist-packages/pip/_internal/build_env.py\", line 19, in <module>\n",
            "^C\n",
            "^C\n"
          ]
        }
      ]
    },
    {
      "cell_type": "code",
      "execution_count": null,
      "metadata": {
        "id": "98hFwSVUyIwD"
      },
      "outputs": [],
      "source": [
        "import gym\n",
        "import torch\n",
        "import random\n",
        "import time\n",
        "import numpy as np\n",
        "import matplotlib.pyplot as plt\n",
        "from IPython.display import clear_output\n",
        "from PIL import Image\n",
        "import imageio"
      ]
    },
    {
      "cell_type": "code",
      "source": [
        "env = gym.envs.make(\"Acrobot-v1\")"
      ],
      "metadata": {
        "id": "DBrsG-xmyKP8"
      },
      "execution_count": null,
      "outputs": []
    },
    {
      "cell_type": "code",
      "source": [
        "def plot_res(values, title='DQN'):\n",
        "    clear_output(wait=True)\n",
        "    scores = [500 + v for v in values]\n",
        "    x = range(len(scores))\n",
        "    fig, ax = plt.subplots(1, 2, figsize=(12, 5))\n",
        "    fig.suptitle(title)\n",
        "\n",
        "    ax[0].plot(x, scores, label='score per run')\n",
        "    ax[0].axhline(400, c='red', ls='--', label='success zone')\n",
        "    try:\n",
        "        z = np.polyfit(x, scores, 1)\n",
        "        p = np.poly1d(z)\n",
        "        ax[0].plot(x, p(x), '--', color='orange')\n",
        "    except:\n",
        "        pass\n",
        "    ax[0].set_xlabel('Episodes')\n",
        "    ax[0].set_ylabel('Score (higher is better)')\n",
        "    ax[0].legend()\n",
        "\n",
        "    ax[1].hist(scores[-500:])\n",
        "    ax[1].axvline(400, c='red', label='success zone')\n",
        "    ax[1].set_xlabel('Scores per Last 500 Episodes')\n",
        "    ax[1].set_ylabel('Frequency')\n",
        "    ax[1].legend()\n",
        "\n",
        "    plt.show()"
      ],
      "metadata": {
        "id": "-jvRWTxeyPws"
      },
      "execution_count": null,
      "outputs": []
    },
    {
      "cell_type": "code",
      "source": [
        "class DQN():\n",
        "    def __init__(self, state_dim, action_dim, hidden_dim=64, lr=0.001):\n",
        "        self.model = torch.nn.Sequential(\n",
        "            torch.nn.Linear(state_dim, hidden_dim),\n",
        "            torch.nn.ReLU(),\n",
        "            torch.nn.Linear(hidden_dim, hidden_dim * 2),\n",
        "            torch.nn.ReLU(),\n",
        "            torch.nn.Linear(hidden_dim * 2, action_dim)\n",
        "        )\n",
        "        self.optimizer = torch.optim.Adam(self.model.parameters(), lr)\n",
        "        self.criterion = torch.nn.MSELoss()\n",
        "\n",
        "    def predict(self, state):\n",
        "        with torch.no_grad():\n",
        "            return self.model(torch.tensor([state], dtype=torch.float32))\n",
        "\n",
        "    def update(self, state, y):\n",
        "        y_pred = self.model(torch.tensor([state], dtype=torch.float32))\n",
        "        y_true = torch.tensor([y], dtype=torch.float32)\n",
        "        loss = self.criterion(y_pred, y_true)\n",
        "        self.optimizer.zero_grad()\n",
        "        loss.backward()\n",
        "        self.optimizer.step()"
      ],
      "metadata": {
        "id": "Xup3ccknyMyx"
      },
      "execution_count": null,
      "outputs": []
    },
    {
      "cell_type": "code",
      "source": [
        "def q_learning(env, model, episodes, gamma=0.9,\n",
        "               epsilon=0.3, eps_decay=0.99,\n",
        "               replay=False, replay_size=64,\n",
        "               title='DQL', double=False,\n",
        "               n_update=10, soft=False, verbose=True):\n",
        "    final = []\n",
        "    memory = []\n",
        "    episode_i = 0\n",
        "    sum_total_replay_time = 0\n",
        "    best_score = -1\n",
        "\n",
        "    for episode in range(episodes):\n",
        "        episode_i += 1\n",
        "        if double and not soft:\n",
        "            if episode % n_update == 0:\n",
        "                model.target_update()\n",
        "        if double and soft:\n",
        "            model.target_update()\n",
        "\n",
        "        state = env.reset()\n",
        "        done = False\n",
        "        total = 0\n",
        "        step = 0\n",
        "\n",
        "        while not done:\n",
        "            if random.random() < epsilon:\n",
        "                action = env.action_space.sample()\n",
        "            else:\n",
        "                q_values = model.predict(state)\n",
        "                action = torch.argmax(q_values).item()\n",
        "\n",
        "            next_state, reward, done, _ = env.step(action)\n",
        "            total += reward\n",
        "            memory.append((state, action, next_state, reward, done))\n",
        "\n",
        "            if done:\n",
        "                if not replay:\n",
        "                    q_values = model.predict(state).tolist()[0]\n",
        "                    q_values[action] = reward\n",
        "                    model.update(state, q_values)\n",
        "                break\n",
        "\n",
        "            if replay and step % 5 == 0:  # ✅ 5스텝마다 replay로 속도 개선\n",
        "                t0 = time.time()\n",
        "                model.replay(memory, replay_size, gamma)\n",
        "                t1 = time.time()\n",
        "                sum_total_replay_time += (t1 - t0)\n",
        "            elif not replay:\n",
        "                q_values = model.predict(state).tolist()[0]\n",
        "                q_values_next = model.predict(next_state)\n",
        "                q_values[action] = reward + gamma * torch.max(q_values_next).item()\n",
        "                model.update(state, q_values)\n",
        "\n",
        "            state = next_state\n",
        "            step += 1\n",
        "\n",
        "        epsilon = max(epsilon * eps_decay, 0.05)\n",
        "        final.append(total)\n",
        "\n",
        "        score = 500 + total  # ✅ 양수 점수화\n",
        "        if score > best_score:\n",
        "            best_score = score\n",
        "\n",
        "        plot_res(final, title)\n",
        "\n",
        "        if verbose:\n",
        "            print(f\"ep: {episode_i:4d}  score: {score:.2f}  best: {best_score:.2f}\")\n",
        "            if replay:\n",
        "                print(f\"Average replay time: {sum_total_replay_time / episode_i:.4f} sec\")\n",
        "\n",
        "    return final\n"
      ],
      "metadata": {
        "id": "ZNFun_VOyOfX"
      },
      "execution_count": null,
      "outputs": []
    },
    {
      "cell_type": "code",
      "source": [
        "# Number of states\n",
        "n_state = env.observation_space.shape[0]\n",
        "# Number of actions\n",
        "n_action = env.action_space.n\n",
        "# Number of episodes\n",
        "episodes = 250\n",
        "# Number of hidden nodes in the DQN\n",
        "n_hidden = 50\n",
        "# Learning rate\n",
        "lr = 0.001"
      ],
      "metadata": {
        "id": "qXWe6xUWy47Y"
      },
      "execution_count": null,
      "outputs": []
    },
    {
      "cell_type": "code",
      "source": [
        "# Get replay results\n",
        "dqn = DQN(n_state, n_action, n_hidden, lr)\n",
        "result = q_learning(env, dqn, episodes, gamma=0.90, epsilon=0.3, title='DQN')\n"
      ],
      "metadata": {
        "colab": {
          "base_uri": "https://localhost:8080/"
        },
        "id": "0cKoF7GRzDQa",
        "outputId": "52e0a603-cc28-4e32-8d5d-64c3d5e3e1de"
      },
      "execution_count": null,
      "outputs": [
        {
          "output_type": "display_data",
          "data": {
            "text/plain": [
              "<Figure size 1200x500 with 2 Axes>"
            ],
            "image/png": "[encoded data removed]"
          },
          "metadata": {}
        },
        {
          "output_type": "stream",
          "name": "stdout",
          "text": [
            "ep:  250  score: 0.00  best: 237.00\n"
          ]
        }
      ]
    },
    {
      "cell_type": "code",
      "source": [
        "env_ani = gnwrapper.Monitor(gym.make(\"Acrobot-v1\", render_mode=\"single_rgb_array\"))\n",
        "observation = env_ani.reset(seed=1000)\n",
        "\n",
        "for t in range(500):\n",
        "    qs = dqn_double.predict(observation)\n",
        "    action = torch.argmax(qs).item()\n",
        "    observation, reward, done, _ = env_ani.step(action)\n",
        "    if done:\n",
        "        print(f\"종료 at step {t}\")\n",
        "        break\n",
        "\n",
        "env_ani.display()\n"
      ],
      "metadata": {
        "colab": {
          "base_uri": "https://localhost:8080/",
          "height": 216
        },
        "id": "nl9sBdZ3zDdd",
        "outputId": "eb5b0685-c80c-4263-a9b8-18f3a4f4eb2f"
      },
      "execution_count": null,
      "outputs": [
        {
          "output_type": "error",
          "ename": "NameError",
          "evalue": "name 'gnwrapper' is not defined",
          "traceback": [
            "\u001b[0;31m---------------------------------------------------------------------------\u001b[0m",
            "\u001b[0;31mNameError\u001b[0m                                 Traceback (most recent call last)",
            "\u001b[0;32m<ipython-input-14-673ea86d0dde>\u001b[0m in \u001b[0;36m<cell line: 0>\u001b[0;34m()\u001b[0m\n\u001b[0;32m----> 1\u001b[0;31m \u001b[0menv_ani\u001b[0m \u001b[0;34m=\u001b[0m \u001b[0mgnwrapper\u001b[0m\u001b[0;34m.\u001b[0m\u001b[0mMonitor\u001b[0m\u001b[0;34m(\u001b[0m\u001b[0mgym\u001b[0m\u001b[0;34m.\u001b[0m\u001b[0mmake\u001b[0m\u001b[0;34m(\u001b[0m\u001b[0;34m\"Acrobot-v1\"\u001b[0m\u001b[0;34m,\u001b[0m \u001b[0mrender_mode\u001b[0m\u001b[0;34m=\u001b[0m\u001b[0;34m\"single_rgb_array\"\u001b[0m\u001b[0;34m)\u001b[0m\u001b[0;34m)\u001b[0m\u001b[0;34m\u001b[0m\u001b[0;34m\u001b[0m\u001b[0m\n\u001b[0m\u001b[1;32m      2\u001b[0m \u001b[0mobservation\u001b[0m \u001b[0;34m=\u001b[0m \u001b[0menv_ani\u001b[0m\u001b[0;34m.\u001b[0m\u001b[0mreset\u001b[0m\u001b[0;34m(\u001b[0m\u001b[0mseed\u001b[0m\u001b[0;34m=\u001b[0m\u001b[0;36m1000\u001b[0m\u001b[0;34m)\u001b[0m\u001b[0;34m\u001b[0m\u001b[0;34m\u001b[0m\u001b[0m\n\u001b[1;32m      3\u001b[0m \u001b[0;34m\u001b[0m\u001b[0m\n\u001b[1;32m      4\u001b[0m \u001b[0;32mfor\u001b[0m \u001b[0mt\u001b[0m \u001b[0;32min\u001b[0m \u001b[0mrange\u001b[0m\u001b[0;34m(\u001b[0m\u001b[0;36m500\u001b[0m\u001b[0;34m)\u001b[0m\u001b[0;34m:\u001b[0m\u001b[0;34m\u001b[0m\u001b[0;34m\u001b[0m\u001b[0m\n\u001b[1;32m      5\u001b[0m     \u001b[0mqs\u001b[0m \u001b[0;34m=\u001b[0m \u001b[0mdqn_double\u001b[0m\u001b[0;34m.\u001b[0m\u001b[0mpredict\u001b[0m\u001b[0;34m(\u001b[0m\u001b[0mobservation\u001b[0m\u001b[0;34m)\u001b[0m\u001b[0;34m\u001b[0m\u001b[0;34m\u001b[0m\u001b[0m\n",
            "\u001b[0;31mNameError\u001b[0m: name 'gnwrapper' is not defined"
          ]
        }
      ]
    }
  ]
}