{
  "nbformat": 4,
  "nbformat_minor": 0,
  "metadata": {
    "colab": {
      "provenance": [],
      "authorship_tag": "ABX9TyPX4yeVZ/ZvRhtZtvLD56+D",
      "include_colab_link": true
    },
    "kernelspec": {
      "name": "python3",
      "display_name": "Python 3"
    },
    "language_info": {
      "name": "python"
    }
  },
  "cells": [
    {
      "cell_type": "markdown",
      "metadata": {
        "id": "view-in-github",
        "colab_type": "text"
      },
      "source": [
        "<a href=\"https://colab.research.google.com/github/kimalpaca/Advanced-Graphics-Programming/blob/master/Double_DQN.ipynb\" target=\"_parent\"><img src=\"https://colab.research.google.com/assets/colab-badge.svg\" alt=\"Open In Colab\"/></a>"
      ]
    },
    {
      "cell_type": "code",
      "execution_count": 14,
      "metadata": {
        "colab": {
          "base_uri": "https://localhost:8080/"
        },
        "id": "KlKXBsmtK7KR",
        "outputId": "662e2a31-be02-43fe-9a2e-de489dbc3747"
      },
      "outputs": [
        {
          "output_type": "stream",
          "name": "stdout",
          "text": [
            "\r0% [Working]\r            \rHit:1 https://cloud.r-project.org/bin/linux/ubuntu jammy-cran40/ InRelease\n",
            "Hit:2 https://developer.download.nvidia.com/compute/cuda/repos/ubuntu2204/x86_64  InRelease\n",
            "Hit:3 http://security.ubuntu.com/ubuntu jammy-security InRelease\n",
            "Hit:4 http://archive.ubuntu.com/ubuntu jammy InRelease\n",
            "Hit:5 https://r2u.stat.illinois.edu/ubuntu jammy InRelease\n",
            "Hit:6 http://archive.ubuntu.com/ubuntu jammy-updates InRelease\n",
            "Hit:7 http://archive.ubuntu.com/ubuntu jammy-backports InRelease\n",
            "Hit:8 https://ppa.launchpadcontent.net/deadsnakes/ppa/ubuntu jammy InRelease\n",
            "Hit:9 https://ppa.launchpadcontent.net/graphics-drivers/ppa/ubuntu jammy InRelease\n",
            "Hit:10 https://ppa.launchpadcontent.net/ubuntugis/ppa/ubuntu jammy InRelease\n",
            "Reading package lists... Done\n",
            "W: Skipping acquire of configured file 'main/source/Sources' as repository 'https://r2u.stat.illinois.edu/ubuntu jammy InRelease' does not seem to provide it (sources.list entry misspelt?)\n",
            "Reading package lists... Done\n",
            "Building dependency tree... Done\n",
            "Reading state information... Done\n",
            "xvfb is already the newest version (2:21.1.4-2ubuntu1.7~22.04.14).\n",
            "0 upgraded, 0 newly installed, 0 to remove and 36 not upgraded.\n",
            "Reading package lists... Done\n",
            "Building dependency tree... Done\n",
            "Reading state information... Done\n",
            "python3-tk is already the newest version (3.10.8-1~22.04).\n",
            "0 upgraded, 0 newly installed, 0 to remove and 36 not upgraded.\n",
            "Requirement already satisfied: numpy==1.23.5 in /usr/local/lib/python3.11/dist-packages (1.23.5)\n",
            "Requirement already satisfied: tk in /usr/local/lib/python3.11/dist-packages (0.1.0)\n",
            "Requirement already satisfied: gym[box2d] in /usr/local/lib/python3.11/dist-packages (0.25.2)\n",
            "Requirement already satisfied: numpy>=1.18.0 in /usr/local/lib/python3.11/dist-packages (from gym[box2d]) (1.23.5)\n",
            "Requirement already satisfied: cloudpickle>=1.2.0 in /usr/local/lib/python3.11/dist-packages (from gym[box2d]) (3.1.1)\n",
            "Requirement already satisfied: gym-notices>=0.0.4 in /usr/local/lib/python3.11/dist-packages (from gym[box2d]) (0.0.8)\n",
            "Collecting box2d-py==2.3.5 (from gym[box2d])\n",
            "  Using cached box2d-py-2.3.5.tar.gz (374 kB)\n",
            "  Preparing metadata (setup.py) ... \u001b[?25l\u001b[?25hdone\n",
            "Collecting pygame==2.1.0 (from gym[box2d])\n",
            "  Using cached pygame-2.1.0.tar.gz (5.8 MB)\n",
            "  \u001b[1;31merror\u001b[0m: \u001b[1msubprocess-exited-with-error\u001b[0m\n",
            "  \n",
            "  \u001b[31m×\u001b[0m \u001b[32mpython setup.py egg_info\u001b[0m did not run successfully.\n",
            "  \u001b[31m│\u001b[0m exit code: \u001b[1;36m1\u001b[0m\n",
            "  \u001b[31m╰─>\u001b[0m See above for output.\n",
            "  \n",
            "  \u001b[1;35mnote\u001b[0m: This error originates from a subprocess, and is likely not a problem with pip.\n",
            "  Preparing metadata (setup.py) ... \u001b[?25l\u001b[?25herror\n",
            "\u001b[1;31merror\u001b[0m: \u001b[1mmetadata-generation-failed\u001b[0m\n",
            "\n",
            "\u001b[31m×\u001b[0m Encountered error while generating package metadata.\n",
            "\u001b[31m╰─>\u001b[0m See above for output.\n",
            "\n",
            "\u001b[1;35mnote\u001b[0m: This is an issue with the package mentioned above, not pip.\n",
            "\u001b[1;36mhint\u001b[0m: See above for details.\n",
            "Requirement already satisfied: gym-notebook-wrapper in /usr/local/lib/python3.11/dist-packages (1.3.3)\n",
            "Requirement already satisfied: gym in /usr/local/lib/python3.11/dist-packages (from gym-notebook-wrapper) (0.25.2)\n",
            "Requirement already satisfied: matplotlib in /usr/local/lib/python3.11/dist-packages (from gym-notebook-wrapper) (3.10.0)\n",
            "Requirement already satisfied: pyvirtualdisplay in /usr/local/lib/python3.11/dist-packages (from gym-notebook-wrapper) (3.0)\n",
            "Requirement already satisfied: ipython in /usr/local/lib/python3.11/dist-packages (from gym-notebook-wrapper) (7.34.0)\n",
            "Requirement already satisfied: moviepy in /usr/local/lib/python3.11/dist-packages (from gym-notebook-wrapper) (1.0.3)\n",
            "Requirement already satisfied: numpy>=1.18.0 in /usr/local/lib/python3.11/dist-packages (from gym->gym-notebook-wrapper) (1.23.5)\n",
            "Requirement already satisfied: cloudpickle>=1.2.0 in /usr/local/lib/python3.11/dist-packages (from gym->gym-notebook-wrapper) (3.1.1)\n",
            "Requirement already satisfied: gym-notices>=0.0.4 in /usr/local/lib/python3.11/dist-packages (from gym->gym-notebook-wrapper) (0.0.8)\n",
            "Requirement already satisfied: setuptools>=18.5 in /usr/local/lib/python3.11/dist-packages (from ipython->gym-notebook-wrapper) (75.2.0)\n",
            "Requirement already satisfied: jedi>=0.16 in /usr/local/lib/python3.11/dist-packages (from ipython->gym-notebook-wrapper) (0.19.2)\n",
            "Requirement already satisfied: decorator in /usr/local/lib/python3.11/dist-packages (from ipython->gym-notebook-wrapper) (4.4.2)\n",
            "Requirement already satisfied: pickleshare in /usr/local/lib/python3.11/dist-packages (from ipython->gym-notebook-wrapper) (0.7.5)\n",
            "Requirement already satisfied: traitlets>=4.2 in /usr/local/lib/python3.11/dist-packages (from ipython->gym-notebook-wrapper) (5.7.1)\n",
            "Requirement already satisfied: prompt-toolkit!=3.0.0,!=3.0.1,<3.1.0,>=2.0.0 in /usr/local/lib/python3.11/dist-packages (from ipython->gym-notebook-wrapper) (3.0.51)\n",
            "Requirement already satisfied: pygments in /usr/local/lib/python3.11/dist-packages (from ipython->gym-notebook-wrapper) (2.19.1)\n",
            "Requirement already satisfied: backcall in /usr/local/lib/python3.11/dist-packages (from ipython->gym-notebook-wrapper) (0.2.0)\n",
            "Requirement already satisfied: matplotlib-inline in /usr/local/lib/python3.11/dist-packages (from ipython->gym-notebook-wrapper) (0.1.7)\n",
            "Requirement already satisfied: pexpect>4.3 in /usr/local/lib/python3.11/dist-packages (from ipython->gym-notebook-wrapper) (4.9.0)\n",
            "Requirement already satisfied: contourpy>=1.0.1 in /usr/local/lib/python3.11/dist-packages (from matplotlib->gym-notebook-wrapper) (1.3.2)\n",
            "Requirement already satisfied: cycler>=0.10 in /usr/local/lib/python3.11/dist-packages (from matplotlib->gym-notebook-wrapper) (0.12.1)\n",
            "Requirement already satisfied: fonttools>=4.22.0 in /usr/local/lib/python3.11/dist-packages (from matplotlib->gym-notebook-wrapper) (4.57.0)\n",
            "Requirement already satisfied: kiwisolver>=1.3.1 in /usr/local/lib/python3.11/dist-packages (from matplotlib->gym-notebook-wrapper) (1.4.8)\n",
            "Requirement already satisfied: packaging>=20.0 in /usr/local/lib/python3.11/dist-packages (from matplotlib->gym-notebook-wrapper) (24.2)\n",
            "Requirement already satisfied: pillow>=8 in /usr/local/lib/python3.11/dist-packages (from matplotlib->gym-notebook-wrapper) (11.2.1)\n",
            "Requirement already satisfied: pyparsing>=2.3.1 in /usr/local/lib/python3.11/dist-packages (from matplotlib->gym-notebook-wrapper) (3.2.3)\n",
            "Requirement already satisfied: python-dateutil>=2.7 in /usr/local/lib/python3.11/dist-packages (from matplotlib->gym-notebook-wrapper) (2.9.0.post0)\n",
            "Requirement already satisfied: tqdm<5.0,>=4.11.2 in /usr/local/lib/python3.11/dist-packages (from moviepy->gym-notebook-wrapper) (4.67.1)\n",
            "Requirement already satisfied: requests<3.0,>=2.8.1 in /usr/local/lib/python3.11/dist-packages (from moviepy->gym-notebook-wrapper) (2.32.3)\n",
            "Requirement already satisfied: proglog<=1.0.0 in /usr/local/lib/python3.11/dist-packages (from moviepy->gym-notebook-wrapper) (0.1.11)\n",
            "Requirement already satisfied: imageio<3.0,>=2.5 in /usr/local/lib/python3.11/dist-packages (from moviepy->gym-notebook-wrapper) (2.37.0)\n",
            "Requirement already satisfied: imageio-ffmpeg>=0.2.0 in /usr/local/lib/python3.11/dist-packages (from moviepy->gym-notebook-wrapper) (0.6.0)\n",
            "Requirement already satisfied: parso<0.9.0,>=0.8.4 in /usr/local/lib/python3.11/dist-packages (from jedi>=0.16->ipython->gym-notebook-wrapper) (0.8.4)\n",
            "Requirement already satisfied: ptyprocess>=0.5 in /usr/local/lib/python3.11/dist-packages (from pexpect>4.3->ipython->gym-notebook-wrapper) (0.7.0)\n",
            "Requirement already satisfied: wcwidth in /usr/local/lib/python3.11/dist-packages (from prompt-toolkit!=3.0.0,!=3.0.1,<3.1.0,>=2.0.0->ipython->gym-notebook-wrapper) (0.2.13)\n",
            "Requirement already satisfied: six>=1.5 in /usr/local/lib/python3.11/dist-packages (from python-dateutil>=2.7->matplotlib->gym-notebook-wrapper) (1.17.0)\n",
            "Requirement already satisfied: charset-normalizer<4,>=2 in /usr/local/lib/python3.11/dist-packages (from requests<3.0,>=2.8.1->moviepy->gym-notebook-wrapper) (3.4.1)\n",
            "Requirement already satisfied: idna<4,>=2.5 in /usr/local/lib/python3.11/dist-packages (from requests<3.0,>=2.8.1->moviepy->gym-notebook-wrapper) (3.10)\n",
            "Requirement already satisfied: urllib3<3,>=1.21.1 in /usr/local/lib/python3.11/dist-packages (from requests<3.0,>=2.8.1->moviepy->gym-notebook-wrapper) (2.4.0)\n",
            "Requirement already satisfied: certifi>=2017.4.17 in /usr/local/lib/python3.11/dist-packages (from requests<3.0,>=2.8.1->moviepy->gym-notebook-wrapper) (2025.1.31)\n"
          ]
        }
      ],
      "source": [
        "!apt-get update\n",
        "!apt-get install xvfb\n",
        "!apt-get install python3-tk\n",
        "!pip install numpy==1.23.5\n",
        "!pip install tk\n",
        "!pip install gym[box2d]\n",
        "!pip install gym-notebook-wrapper\n",
        "!export MPLBACKEND=TKAg"
      ]
    },
    {
      "cell_type": "code",
      "source": [
        "# Install packages\n",
        "import gym\n",
        "import copy\n",
        "import torch\n",
        "from torch.autograd import Variable\n",
        "import random\n",
        "import matplotlib.pyplot as plt\n",
        "from PIL import Image\n",
        "from IPython.display import clear_output\n",
        "import math\n",
        "import torchvision.transforms as T\n",
        "import numpy as np\n",
        "import gnwrapper\n",
        "\n",
        "\n",
        "import time"
      ],
      "metadata": {
        "id": "TO4KJ8vQLLtx"
      },
      "execution_count": 15,
      "outputs": []
    },
    {
      "cell_type": "code",
      "source": [
        "import torch\n",
        "import torch.nn as nn"
      ],
      "metadata": {
        "id": "s7esQa8gzi1O"
      },
      "execution_count": 16,
      "outputs": []
    },
    {
      "cell_type": "code",
      "source": [
        "env = gym.envs.make(\"Acrobot-v1\")"
      ],
      "metadata": {
        "id": "MwfK_j1JLZgB"
      },
      "execution_count": 17,
      "outputs": []
    },
    {
      "cell_type": "code",
      "source": [
        "def plot_res(values, title=''):\n",
        "    clear_output(wait=True)\n",
        "    # 양수 점수로 변환\n",
        "    scores = [500 + v for v in values]  # ✅ 핵심 변화\n",
        "    x = range(len(scores))\n",
        "    fig, ax = plt.subplots(1, 2, figsize=(12, 5))\n",
        "    fig.suptitle(title)\n",
        "\n",
        "    # 학습 곡선\n",
        "    ax[0].plot(x, scores, label='score per run')\n",
        "    ax[0].axhline(400, c='red', ls='--', label='success zone')  # ✅ 기준선\n",
        "    try:\n",
        "        z = np.polyfit(x, scores, 1)\n",
        "        p = np.poly1d(z)\n",
        "        ax[0].plot(x, p(x), '--', color='orange')\n",
        "    except:\n",
        "        pass\n",
        "    ax[0].set_xlabel('Episodes')\n",
        "    ax[0].set_ylabel('Score (higher is better)')\n",
        "    ax[0].legend()\n",
        "\n",
        "    # 히스토그램\n",
        "    ax[1].hist(scores[-500:])\n",
        "    ax[1].axvline(400, c='red', label='success zone')\n",
        "    ax[1].set_xlabel('Scores per Last 500 Episodes')\n",
        "    ax[1].set_ylabel('Frequency')\n",
        "    ax[1].legend()\n",
        "\n",
        "    plt.show()\n"
      ],
      "metadata": {
        "id": "QeGdEY0_LdBC"
      },
      "execution_count": 18,
      "outputs": []
    },
    {
      "cell_type": "code",
      "source": [
        "class DQN():\n",
        "    ''' Deep Q Neural Network class. '''\n",
        "    def __init__(self, state_dim, action_dim, hidden_dim=64, lr=0.05):\n",
        "            self.criterion = torch.nn.MSELoss()\n",
        "            self.model = torch.nn.Sequential(\n",
        "                            torch.nn.Linear(state_dim, hidden_dim),\n",
        "                            torch.nn.LeakyReLU(),\n",
        "                            torch.nn.Linear(hidden_dim, hidden_dim*2),\n",
        "                            torch.nn.LeakyReLU(),\n",
        "                            torch.nn.Linear(hidden_dim*2, action_dim)\n",
        "                    )\n",
        "            self.optimizer = torch.optim.Adam(self.model.parameters(), lr)\n",
        "\n",
        "\n",
        "\n",
        "    def update(self, state, y):\n",
        "        \"\"\"Update the weights of the network given a training sample. \"\"\"\n",
        "        y_pred = self.model(torch.Tensor(state))\n",
        "        loss = self.criterion(y_pred, Variable(torch.Tensor(y)))\n",
        "        self.optimizer.zero_grad()\n",
        "        loss.backward()\n",
        "        self.optimizer.step()\n",
        "\n",
        "\n",
        "    def predict(self, state):\n",
        "        \"\"\" Compute Q values for all actions using the DQL. \"\"\"\n",
        "        with torch.no_grad():\n",
        "            return self.model(torch.Tensor(state))"
      ],
      "metadata": {
        "id": "qrYd2pO2z4GJ"
      },
      "execution_count": 19,
      "outputs": []
    },
    {
      "cell_type": "code",
      "source": [
        "class DQN_double(DQN):\n",
        "    def __init__(self, state_dim, action_dim, hidden_dim, lr):\n",
        "        super().__init__(state_dim, action_dim, hidden_dim, lr)\n",
        "        self.target = copy.deepcopy(self.model)\n",
        "\n",
        "    def target_predict(self, s):\n",
        "        ''' Use target network to make predicitons.'''\n",
        "        with torch.no_grad():\n",
        "            return self.target(torch.Tensor(s))\n",
        "\n",
        "    def target_update(self):\n",
        "        ''' Update target network with the model weights.'''\n",
        "        self.target.load_state_dict(self.model.state_dict())\n",
        "\n",
        "    def replay(self, memory, size, gamma=1.0):\n",
        "        ''' Add experience replay to the DQL network class.'''\n",
        "        if len(memory) >= size:\n",
        "            # Sample experiences from the agent's memory\n",
        "            data = random.sample(memory, size)\n",
        "            states = []\n",
        "            targets = []\n",
        "            # Extract datapoints from the data\n",
        "            for state, action, next_state, reward, done in data:\n",
        "                states.append(state)\n",
        "                q_values = self.predict(state).tolist()\n",
        "                if done:\n",
        "                    q_values[action] = reward\n",
        "                else:\n",
        "                    # The only difference between the simple replay is in this line\n",
        "                    # It ensures that next q values are predicted with the target network.\n",
        "                    q_values_next = self.target_predict(next_state)\n",
        "                    q_values[action] = reward + gamma * torch.max(q_values_next).item()\n",
        "\n",
        "                targets.append(q_values)\n",
        "\n",
        "            self.update(states, targets)"
      ],
      "metadata": {
        "id": "TXM6YUBSykPf"
      },
      "execution_count": 20,
      "outputs": []
    },
    {
      "cell_type": "code",
      "source": [
        "def q_learning(env, model, episodes, gamma=0.99,\n",
        "               epsilon=1.0, eps_decay=0.995,\n",
        "               replay=False, replay_size=64,\n",
        "               title='DQL', double=False,\n",
        "               n_update=10, soft=False, verbose=True):\n",
        "    final = []\n",
        "    memory = []\n",
        "    episode_i = 0\n",
        "    sum_total_replay_time = 0\n",
        "    best_score = -1\n",
        "\n",
        "    for episode in range(episodes):\n",
        "        episode_i += 1\n",
        "        if double and not soft:\n",
        "            if episode % n_update == 0:\n",
        "                model.target_update()\n",
        "        if double and soft:\n",
        "            model.target_update()\n",
        "\n",
        "        state = env.reset()\n",
        "        done = False\n",
        "        total = 0\n",
        "        step = 0\n",
        "\n",
        "        while not done:\n",
        "            if random.random() < epsilon:\n",
        "                action = env.action_space.sample()\n",
        "            else:\n",
        "                q_values = model.predict(state)\n",
        "                action = torch.argmax(q_values).item()\n",
        "\n",
        "            next_state, reward, done, _ = env.step(action)\n",
        "            total += reward\n",
        "            memory.append((state, action, next_state, reward, done))\n",
        "\n",
        "            if done:\n",
        "                if not replay:\n",
        "                    q_values = model.predict(state).tolist()[0]\n",
        "                    q_values[action] = reward\n",
        "                    model.update(state, q_values)\n",
        "                break\n",
        "\n",
        "            if replay and step % 5 == 0:  # ✅ 5스텝마다 replay로 속도 개선\n",
        "                t0 = time.time()\n",
        "                model.replay(memory, replay_size, gamma)\n",
        "                t1 = time.time()\n",
        "                sum_total_replay_time += (t1 - t0)\n",
        "            elif not replay:\n",
        "                q_values = model.predict(state).tolist()[0]\n",
        "                q_values_next = model.predict(next_state)\n",
        "                q_values[action] = reward + gamma * torch.max(q_values_next).item()\n",
        "                model.update(state, q_values)\n",
        "\n",
        "            state = next_state\n",
        "            step += 1\n",
        "\n",
        "        epsilon = max(epsilon * eps_decay, 0.05)\n",
        "        final.append(total)\n",
        "\n",
        "        score = 500 + total  # ✅ 양수 점수화\n",
        "        if score > best_score:\n",
        "            best_score = score\n",
        "\n",
        "        plot_res(final, title)\n",
        "\n",
        "        if verbose:\n",
        "            print(f\"ep: {episode_i:4d} | score: {int(score):4d} | best: {int(best_score):4d}\")\n",
        "            if replay:\n",
        "                print(f\"Average replay time: {sum_total_replay_time / episode_i:.4f} sec\")\n",
        "\n",
        "    return final\n"
      ],
      "metadata": {
        "id": "CmGE-qh_RdEi"
      },
      "execution_count": 27,
      "outputs": []
    },
    {
      "cell_type": "code",
      "source": [
        "# Number of states\n",
        "n_state = env.observation_space.shape[0]\n",
        "# Number of actions\n",
        "n_action = env.action_space.n\n",
        "# Number of episodes\n",
        "episodes = 150\n",
        "# Number of hidden nodes in the DQN\n",
        "n_hidden = 50\n",
        "# Learning rate\n",
        "lr = 0.001"
      ],
      "metadata": {
        "id": "Tb_u0iqdLgpC"
      },
      "execution_count": 28,
      "outputs": []
    },
    {
      "cell_type": "code",
      "source": [
        "# Get replay results\n",
        "dqn_double = DQN_double(n_state, n_action, n_hidden, lr)\n",
        "double =  q_learning(env, dqn_double, episodes, gamma=.9,\n",
        "                    epsilon=0.2, replay=True, double=True,\n",
        "                    title='Double DQL with Replay', n_update=10)"
      ],
      "metadata": {
        "colab": {
          "base_uri": "https://localhost:8080/",
          "height": 498
        },
        "id": "Gyih_MuJLi64",
        "outputId": "f8520264-ccd4-4c37-babe-3853a0fd20e0"
      },
      "execution_count": null,
      "outputs": [
        {
          "output_type": "display_data",
          "data": {
            "text/plain": [
              "<Figure size 1200x500 with 2 Axes>"
            ],
            "image/png": "[encoded data removed]"
          },
          "metadata": {}
        },
        {
          "output_type": "stream",
          "name": "stdout",
          "text": [
            "ep:   12 | score:   77 | best:  387\n",
            "Average replay time: 0.8384 sec\n"
          ]
        }
      ]
    },
    {
      "cell_type": "code",
      "source": [
        "env_ani = gnwrapper.Monitor(gym.make(\"Acrobot-v1\", render_mode=\"single_rgb_array\"))\n",
        "observation = env_ani.reset(seed=1000)\n",
        "\n",
        "for t in range(500):\n",
        "    qs = dqn_double.predict(observation)\n",
        "    action = torch.argmax(qs).item()\n",
        "    observation, reward, done, _ = env_ani.step(action)\n",
        "    if done:\n",
        "        print(f\"종료 at step {t}\")\n",
        "        break\n",
        "\n",
        "env_ani.display()\n"
      ],
      "metadata": {
        "colab": {
          "base_uri": "https://localhost:8080/",
          "height": 216
        },
        "id": "X2BrZCGVLs_C",
        "outputId": "16884c07-3542-4eb7-9a8f-9d3e76183a51"
      },
      "execution_count": null,
      "outputs": [
        {
          "output_type": "error",
          "ename": "NameError",
          "evalue": "name 'gnwrapper' is not defined",
          "traceback": [
            "\u001b[0;31m---------------------------------------------------------------------------\u001b[0m",
            "\u001b[0;31mNameError\u001b[0m                                 Traceback (most recent call last)",
            "\u001b[0;32m<ipython-input-17-673ea86d0dde>\u001b[0m in \u001b[0;36m<cell line: 0>\u001b[0;34m()\u001b[0m\n\u001b[0;32m----> 1\u001b[0;31m \u001b[0menv_ani\u001b[0m \u001b[0;34m=\u001b[0m \u001b[0mgnwrapper\u001b[0m\u001b[0;34m.\u001b[0m\u001b[0mMonitor\u001b[0m\u001b[0;34m(\u001b[0m\u001b[0mgym\u001b[0m\u001b[0;34m.\u001b[0m\u001b[0mmake\u001b[0m\u001b[0;34m(\u001b[0m\u001b[0;34m\"Acrobot-v1\"\u001b[0m\u001b[0;34m,\u001b[0m \u001b[0mrender_mode\u001b[0m\u001b[0;34m=\u001b[0m\u001b[0;34m\"single_rgb_array\"\u001b[0m\u001b[0;34m)\u001b[0m\u001b[0;34m)\u001b[0m\u001b[0;34m\u001b[0m\u001b[0;34m\u001b[0m\u001b[0m\n\u001b[0m\u001b[1;32m      2\u001b[0m \u001b[0mobservation\u001b[0m \u001b[0;34m=\u001b[0m \u001b[0menv_ani\u001b[0m\u001b[0;34m.\u001b[0m\u001b[0mreset\u001b[0m\u001b[0;34m(\u001b[0m\u001b[0mseed\u001b[0m\u001b[0;34m=\u001b[0m\u001b[0;36m1000\u001b[0m\u001b[0;34m)\u001b[0m\u001b[0;34m\u001b[0m\u001b[0;34m\u001b[0m\u001b[0m\n\u001b[1;32m      3\u001b[0m \u001b[0;34m\u001b[0m\u001b[0m\n\u001b[1;32m      4\u001b[0m \u001b[0;32mfor\u001b[0m \u001b[0mt\u001b[0m \u001b[0;32min\u001b[0m \u001b[0mrange\u001b[0m\u001b[0;34m(\u001b[0m\u001b[0;36m500\u001b[0m\u001b[0;34m)\u001b[0m\u001b[0;34m:\u001b[0m\u001b[0;34m\u001b[0m\u001b[0;34m\u001b[0m\u001b[0m\n\u001b[1;32m      5\u001b[0m     \u001b[0mqs\u001b[0m \u001b[0;34m=\u001b[0m \u001b[0mdqn_double\u001b[0m\u001b[0;34m.\u001b[0m\u001b[0mpredict\u001b[0m\u001b[0;34m(\u001b[0m\u001b[0mobservation\u001b[0m\u001b[0;34m)\u001b[0m\u001b[0;34m\u001b[0m\u001b[0;34m\u001b[0m\u001b[0m\n",
            "\u001b[0;31mNameError\u001b[0m: name 'gnwrapper' is not defined"
          ]
        }
      ]
    }
  ]
}